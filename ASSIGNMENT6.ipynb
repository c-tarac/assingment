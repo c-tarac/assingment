{
 "cells": [
  {
   "cell_type": "code",
   "execution_count": 2,
   "id": "f687302e",
   "metadata": {},
   "outputs": [],
   "source": [
    "import numpy as np\n",
    "import pandas as pd\n",
    "import matplotlib.pyplot as plt"
   ]
  },
  {
   "cell_type": "markdown",
   "id": "8491e828",
   "metadata": {},
   "source": [
    "### ANN Ques 1 , 2"
   ]
  },
  {
   "cell_type": "code",
   "execution_count": 96,
   "id": "81fd9fde",
   "metadata": {},
   "outputs": [],
   "source": [
    "def sigmoid(x):\n",
    "    return 1/(1+np.exp(-x))"
   ]
  },
  {
   "cell_type": "code",
   "execution_count": 97,
   "id": "abd2af73",
   "metadata": {},
   "outputs": [],
   "source": [
    "def tanh(x):\n",
    "    return np.tanh(x)"
   ]
  },
  {
   "cell_type": "code",
   "execution_count": 98,
   "id": "2cab6bf1",
   "metadata": {},
   "outputs": [],
   "source": [
    "def relu(x):\n",
    "    return max(0,x)"
   ]
  },
  {
   "cell_type": "code",
   "execution_count": 99,
   "id": "3c0a90b3",
   "metadata": {},
   "outputs": [],
   "source": [
    "### Inputs\n",
    "'''\n",
    "X=[x1,x2,x3]\n",
    "'''\n",
    "\n",
    "### Weight Matrix between Input and Hidden\n",
    "'''\n",
    "W1=[[w11, w12]\n",
    "    [w21, w22]\n",
    "    [w31, w32]]\n",
    "'''\n",
    "\n",
    "### Weight Matrix between hidden and output\n",
    "'''\n",
    "W2=[w11 w21]\n",
    "''';"
   ]
  },
  {
   "cell_type": "code",
   "execution_count": 100,
   "id": "36bf0390",
   "metadata": {},
   "outputs": [],
   "source": [
    "X=np.array([-3.2,4.1,0.163])\n",
    "\n",
    "W1=np.array([[0.1,0.2],[0.3,0.4],[0.5,0.6]])\n",
    "\n",
    "W2=np.array([0.7,0.8])"
   ]
  },
  {
   "cell_type": "code",
   "execution_count": 101,
   "id": "76dfb4e9",
   "metadata": {},
   "outputs": [
    {
     "name": "stdout",
     "output_type": "stream",
     "text": [
      "output of hidden layer: [0.7293841  0.74984766]\n",
      "y: 0.7522124368474664\n"
     ]
    }
   ],
   "source": [
    "inp_hidden=np.dot(W1.T,X)\n",
    "### Change activation Function\n",
    "out_hidden=sigmoid(inp_hidden)\n",
    "print('output of hidden layer:',out_hidden)\n",
    "\n",
    "inp_out=np.dot(W2,out_hidden)\n",
    "### Change Activation Function\n",
    "y=sigmoid(inp_out)\n",
    "print('y:',y)"
   ]
  },
  {
   "cell_type": "code",
   "execution_count": null,
   "id": "bd815049",
   "metadata": {},
   "outputs": [],
   "source": []
  },
  {
   "cell_type": "markdown",
   "id": "05027ac4",
   "metadata": {},
   "source": [
    "### KNN"
   ]
  },
  {
   "cell_type": "code",
   "execution_count": 102,
   "id": "0e28713e",
   "metadata": {},
   "outputs": [],
   "source": [
    "from sklearn.neighbors import KNeighborsRegressor\n",
    "from sklearn.metrics import mean_squared_error"
   ]
  },
  {
   "cell_type": "code",
   "execution_count": 104,
   "id": "09ce63e5",
   "metadata": {},
   "outputs": [],
   "source": [
    "train_dict={'Height h':[1.5,1.7,1.6,1.5,1.4,1.6,1.4,1.9,2.0,1.4,1.8,1.5],\n",
    "           'Weight w':[71.1,103.3,26.4,27.8,21.8,94.9,90,98.3,108.1,91.9,61.5,90.2],\n",
    "           'BMI y':[31.6,35.74,10.31,12.36,11.12,37.07,45.02,27.23,27.23,46.89,18.98,40.09]\n",
    "          }\n",
    "train=pd.DataFrame(dataframe)\n",
    "X_train=train.drop('BMI y',axis=1).values\n",
    "y_train=train['BMI y'].values"
   ]
  },
  {
   "cell_type": "code",
   "execution_count": 109,
   "id": "609ba7af",
   "metadata": {},
   "outputs": [],
   "source": [
    "test_dict={'Height h':[1.8,1.0,1.6,1.7,1.5,1.2,1.2,1.8,1.2,1.1],\n",
    "           'Weight w':[81.7,105.8,20.4,66.1,93.1,95.1,85,46.3,102.6,84.3],\n",
    "            'BMI y':[25.22,105.8,7.97,22.87,41.38,52.15,59.03,14.29,71.25,69.67]}\n",
    "test=pd.DataFrame(test_dict)"
   ]
  },
  {
   "cell_type": "code",
   "execution_count": 110,
   "id": "189b0854",
   "metadata": {},
   "outputs": [],
   "source": [
    "X_test=test.drop('BMI y',axis=1).values\n",
    "y_test=test['BMI y'].values"
   ]
  },
  {
   "cell_type": "code",
   "execution_count": 111,
   "id": "5841adf2",
   "metadata": {},
   "outputs": [],
   "source": [
    "error_rate=[]\n",
    "for i in range(1,10):    \n",
    "    knn = KNeighborsRegressor(n_neighbors=i)\n",
    "    knn.fit(X_train,y_train)\n",
    "    pred_i = knn.predict(X_test)\n",
    "    error_rate.append(np.sqrt(mean_squared_error(y_test,pred_i)))"
   ]
  },
  {
   "cell_type": "code",
   "execution_count": 112,
   "id": "844e1aa2",
   "metadata": {},
   "outputs": [
    {
     "data": {
      "image/png": "[encoded data removed]",
      "text/plain": [
       "<Figure size 432x288 with 1 Axes>"
      ]
     },
     "metadata": {
      "needs_background": "light"
     },
     "output_type": "display_data"
    }
   ],
   "source": [
    "plt.plot(range(1,10),error_rate);"
   ]
  },
  {
   "cell_type": "markdown",
   "id": "ad57ebdb",
   "metadata": {},
   "source": [
    "## Decision tree regression"
   ]
  },
  {
   "cell_type": "code",
   "execution_count": 8,
   "id": "90067b27",
   "metadata": {},
   "outputs": [],
   "source": [
    "train_dict={\n",
    "           'Weight w':[91.3,67.6,71.1,103.3,26.4,27.8,21.8,94.9,90,98.3],\n",
    "           'BMI y':[40.58,23.39,27.77,45.91,13.47,10.86,11.12,26.29,22.5,50.15]\n",
    "          }\n",
    "train=pd.DataFrame(train_dict)\n",
    "X = train.drop(['BMI y'],axis=1)\n",
    "y = train.drop(['Weight w'],axis=1)"
   ]
  },
  {
   "cell_type": "code",
   "execution_count": 22,
   "id": "2d509422",
   "metadata": {},
   "outputs": [
    {
     "data": {
      "text/html": [
       "<div>\n",
       "<style scoped>\n",
       "    .dataframe tbody tr th:only-of-type {\n",
       "        vertical-align: middle;\n",
       "    }\n",
       "\n",
       "    .dataframe tbody tr th {\n",
       "        vertical-align: top;\n",
       "    }\n",
       "\n",
       "    .dataframe thead th {\n",
       "        text-align: right;\n",
       "    }\n",
       "</style>\n",
       "<table border=\"1\" class=\"dataframe\">\n",
       "  <thead>\n",
       "    <tr style=\"text-align: right;\">\n",
       "      <th></th>\n",
       "      <th>Weight w</th>\n",
       "      <th>BMI y</th>\n",
       "    </tr>\n",
       "  </thead>\n",
       "  <tbody>\n",
       "    <tr>\n",
       "      <th>0</th>\n",
       "      <td>91.3</td>\n",
       "      <td>40.58</td>\n",
       "    </tr>\n",
       "    <tr>\n",
       "      <th>1</th>\n",
       "      <td>67.6</td>\n",
       "      <td>23.39</td>\n",
       "    </tr>\n",
       "    <tr>\n",
       "      <th>2</th>\n",
       "      <td>71.1</td>\n",
       "      <td>27.77</td>\n",
       "    </tr>\n",
       "    <tr>\n",
       "      <th>3</th>\n",
       "      <td>103.3</td>\n",
       "      <td>45.91</td>\n",
       "    </tr>\n",
       "    <tr>\n",
       "      <th>4</th>\n",
       "      <td>26.4</td>\n",
       "      <td>13.47</td>\n",
       "    </tr>\n",
       "    <tr>\n",
       "      <th>5</th>\n",
       "      <td>27.8</td>\n",
       "      <td>10.86</td>\n",
       "    </tr>\n",
       "    <tr>\n",
       "      <th>6</th>\n",
       "      <td>21.8</td>\n",
       "      <td>11.12</td>\n",
       "    </tr>\n",
       "    <tr>\n",
       "      <th>7</th>\n",
       "      <td>94.9</td>\n",
       "      <td>26.29</td>\n",
       "    </tr>\n",
       "    <tr>\n",
       "      <th>8</th>\n",
       "      <td>90.0</td>\n",
       "      <td>22.50</td>\n",
       "    </tr>\n",
       "    <tr>\n",
       "      <th>9</th>\n",
       "      <td>98.3</td>\n",
       "      <td>50.15</td>\n",
       "    </tr>\n",
       "  </tbody>\n",
       "</table>\n",
       "</div>"
      ],
      "text/plain": [
       "   Weight w  BMI y\n",
       "0      91.3  40.58\n",
       "1      67.6  23.39\n",
       "2      71.1  27.77\n",
       "3     103.3  45.91\n",
       "4      26.4  13.47\n",
       "5      27.8  10.86\n",
       "6      21.8  11.12\n",
       "7      94.9  26.29\n",
       "8      90.0  22.50\n",
       "9      98.3  50.15"
      ]
     },
     "execution_count": 22,
     "metadata": {},
     "output_type": "execute_result"
    }
   ],
   "source": [
    "train"
   ]
  },
  {
   "cell_type": "code",
   "execution_count": 41,
   "id": "d184e12b",
   "metadata": {},
   "outputs": [],
   "source": [
    "threshold=91.3"
   ]
  },
  {
   "cell_type": "code",
   "execution_count": 48,
   "id": "37f7812b",
   "metadata": {},
   "outputs": [],
   "source": [
    "df1=train[train['Weight w']<threshold]\n",
    "df2=train[train['Weight w']>=threshold]"
   ]
  },
  {
   "cell_type": "code",
   "execution_count": 55,
   "id": "9de48cc5",
   "metadata": {},
   "outputs": [
    {
     "data": {
      "text/html": [
       "<div>\n",
       "<style scoped>\n",
       "    .dataframe tbody tr th:only-of-type {\n",
       "        vertical-align: middle;\n",
       "    }\n",
       "\n",
       "    .dataframe tbody tr th {\n",
       "        vertical-align: top;\n",
       "    }\n",
       "\n",
       "    .dataframe thead th {\n",
       "        text-align: right;\n",
       "    }\n",
       "</style>\n",
       "<table border=\"1\" class=\"dataframe\">\n",
       "  <thead>\n",
       "    <tr style=\"text-align: right;\">\n",
       "      <th></th>\n",
       "      <th>Weight w</th>\n",
       "      <th>BMI y</th>\n",
       "    </tr>\n",
       "  </thead>\n",
       "  <tbody>\n",
       "    <tr>\n",
       "      <th>1</th>\n",
       "      <td>67.6</td>\n",
       "      <td>23.39</td>\n",
       "    </tr>\n",
       "    <tr>\n",
       "      <th>2</th>\n",
       "      <td>71.1</td>\n",
       "      <td>27.77</td>\n",
       "    </tr>\n",
       "    <tr>\n",
       "      <th>4</th>\n",
       "      <td>26.4</td>\n",
       "      <td>13.47</td>\n",
       "    </tr>\n",
       "    <tr>\n",
       "      <th>5</th>\n",
       "      <td>27.8</td>\n",
       "      <td>10.86</td>\n",
       "    </tr>\n",
       "    <tr>\n",
       "      <th>6</th>\n",
       "      <td>21.8</td>\n",
       "      <td>11.12</td>\n",
       "    </tr>\n",
       "    <tr>\n",
       "      <th>8</th>\n",
       "      <td>90.0</td>\n",
       "      <td>22.50</td>\n",
       "    </tr>\n",
       "  </tbody>\n",
       "</table>\n",
       "</div>"
      ],
      "text/plain": [
       "   Weight w  BMI y\n",
       "1      67.6  23.39\n",
       "2      71.1  27.77\n",
       "4      26.4  13.47\n",
       "5      27.8  10.86\n",
       "6      21.8  11.12\n",
       "8      90.0  22.50"
      ]
     },
     "execution_count": 55,
     "metadata": {},
     "output_type": "execute_result"
    }
   ],
   "source": [
    "df1"
   ]
  },
  {
   "cell_type": "code",
   "execution_count": 49,
   "id": "455ee2ad",
   "metadata": {},
   "outputs": [
    {
     "data": {
      "text/plain": [
       "18.185"
      ]
     },
     "execution_count": 49,
     "metadata": {},
     "output_type": "execute_result"
    }
   ],
   "source": [
    "df1['BMI y'].mean()"
   ]
  },
  {
   "cell_type": "code",
   "execution_count": 58,
   "id": "38996284",
   "metadata": {},
   "outputs": [
    {
     "data": {
      "text/plain": [
       "40.7325"
      ]
     },
     "execution_count": 58,
     "metadata": {},
     "output_type": "execute_result"
    }
   ],
   "source": [
    "df2['BMI y'].mean()"
   ]
  },
  {
   "cell_type": "code",
   "execution_count": 53,
   "id": "15f7e44a",
   "metadata": {},
   "outputs": [],
   "source": [
    "rmse1=np.sum((df1['BMI y']-df1['BMI y'].mean())**2)"
   ]
  },
  {
   "cell_type": "code",
   "execution_count": 54,
   "id": "313f3e70",
   "metadata": {},
   "outputs": [
    {
     "data": {
      "text/plain": [
       "263.38455"
      ]
     },
     "execution_count": 54,
     "metadata": {},
     "output_type": "execute_result"
    }
   ],
   "source": [
    "rmse1"
   ]
  },
  {
   "cell_type": "code",
   "execution_count": 56,
   "id": "94d72cd9",
   "metadata": {},
   "outputs": [],
   "source": [
    "rmse2=np.sum((df2['BMI y']-df2['BMI y'].mean())**2)"
   ]
  },
  {
   "cell_type": "code",
   "execution_count": 57,
   "id": "c76215d6",
   "metadata": {},
   "outputs": [
    {
     "data": {
      "text/plain": [
       "587.489425"
      ]
     },
     "execution_count": 57,
     "metadata": {},
     "output_type": "execute_result"
    }
   ],
   "source": [
    "rmse1+rmse2"
   ]
  }
 ],
 "metadata": {
  "kernelspec": {
   "display_name": "Python 3 (ipykernel)",
   "language": "python",
   "name": "python3"
  },
  "language_info": {
   "codemirror_mode": {
    "name": "ipython",
    "version": 3
   },
   "file_extension": ".py",
   "mimetype": "text/x-python",
   "name": "python",
   "nbconvert_exporter": "python",
   "pygments_lexer": "ipython3",
   "version": "3.8.12"
  }
 },
 "nbformat": 4,
 "nbformat_minor": 5
}
